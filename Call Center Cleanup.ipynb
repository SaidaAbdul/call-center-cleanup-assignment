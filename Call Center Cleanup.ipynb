{
 "cells": [
  {
   "cell_type": "markdown",
   "id": "458bdb75",
   "metadata": {},
   "source": [
    "# Call Center Cleanup\n",
    "\n",
    "\n",
    "## Business Issue and Understanding\n",
    "\n",
    "I work for a company that has two call centers: the North Call Center and the South Call Center. The company is looking to possibly hire five additional reps to enhance customer experience. I will be exploring how efficient the current reps are in each branch to determine which branch would benefit from additional assistance.\n",
    "\n",
    "### How the Call Center Works\n",
    "\n",
    "Call center representatives are assigned queues. When calls are assigned to a queue, the call is assigned to the next person in line in the queue. After a call is assigned to a representative, the amount of time between assignment and the call starting is divided into busy minutes and not ready minutes. If the call is incoming and a customer is waiting on the phone for a rep, the time is split into three categories: busy minutes, not ready minutes, and incoming call wait time. Once the rep has the customer on the phone, there might be during call wait time, where the call is put on hold while the rep gets an answer for the customer.\n",
    "\n",
    "### Notes about the Dataset\n",
    "\n",
    "If you haven't worked in a call center before, these notes might help you throughout the analysis.\n",
    "\n",
    "* The call purpose is tagged for each call.\n",
    "* The time of the call is tagged in 1 hour blocks starting at 9:00 AM and ending at 5:00 PM.\n",
    "* Calls are tagged as incoming or outgoing.\n",
    "* Reps are assigned to queues. When the reps are working, they take calls in the order of their queue.\n",
    "* A call that is dropped due to technical error or missed by the center because they have reached maximum capacity is a lost call.\n",
    "* An abandoned call is when the customer hangs up because they have been waiting for too long.\n",
    "* Busy Minutes: the amount of time after a call comes in or needs to go out where the assigned rep is not available because they are busy with other customers.\n",
    "* Not Ready Minutes: the amount of time after a call comes in or needs to go out where the assigned rep is not available because they are not ready (for example, getting water).\n",
    "* Incoming Wait Time - amount of time after assigned rep is available to take the call customer waits for representative to pick up a call. This is tracked in seconds.\n",
    "* During Call Wait Time - amount of time during call that customer has to wait for representative\n"
   ]
  },
  {
   "cell_type": "code",
   "execution_count": 1,
   "id": "49aada97",
   "metadata": {},
   "outputs": [],
   "source": [
    "# Importing the appropriate libraries\n",
    "import pandas as pd\n",
    "import numpy as np\n",
    "import seaborn as sns\n",
    "import matplotlib.pyplot as plt\n",
    "from matplotlib import style\n",
    "\n",
    "\n",
    "# Creating two dataframes for both the North and South data\n",
    "north_df = pd.read_csv(\"NorthCallCenter.csv\",index_col=0)\n",
    "south_df = pd.read_csv(\"SouthCallCenter.csv\",index_col=0)"
   ]
  },
  {
   "cell_type": "markdown",
   "id": "a644531e",
   "metadata": {},
   "source": [
    "# Exploratory Data Analysis\n",
    "\n",
    "As I explore the data, I want to be able answer these questions:\n",
    "\n",
    "1. How many reps are in each branch?\n",
    "2. What is the average busy minutes, not ready minutes, incoming wait time, and during call wait time for each branch?\n",
    "3. What is the number of calls taken for each time block?"
   ]
  },
  {
   "cell_type": "code",
   "execution_count": 2,
   "id": "05a06a1f",
   "metadata": {
    "scrolled": true
   },
   "outputs": [
    {
     "data": {
      "text/html": [
       "<div>\n",
       "<style scoped>\n",
       "    .dataframe tbody tr th:only-of-type {\n",
       "        vertical-align: middle;\n",
       "    }\n",
       "\n",
       "    .dataframe tbody tr th {\n",
       "        vertical-align: top;\n",
       "    }\n",
       "\n",
       "    .dataframe thead th {\n",
       "        text-align: right;\n",
       "    }\n",
       "</style>\n",
       "<table border=\"1\" class=\"dataframe\">\n",
       "  <thead>\n",
       "    <tr style=\"text-align: right;\">\n",
       "      <th></th>\n",
       "      <th>Branch</th>\n",
       "      <th>Call Purpose</th>\n",
       "      <th>Time Block</th>\n",
       "      <th>Incoming or Outgoing</th>\n",
       "      <th>Queue</th>\n",
       "      <th>Rep ID</th>\n",
       "      <th>Sale</th>\n",
       "      <th>Lost Call</th>\n",
       "      <th>Abandoned</th>\n",
       "      <th>Busy Minutes</th>\n",
       "      <th>Not Ready Minutes</th>\n",
       "      <th>Incoming Wait Time</th>\n",
       "      <th>During Call Wait Time</th>\n",
       "      <th>Calls</th>\n",
       "    </tr>\n",
       "  </thead>\n",
       "  <tbody>\n",
       "    <tr>\n",
       "      <th>0</th>\n",
       "      <td>North</td>\n",
       "      <td>Complaint</td>\n",
       "      <td>9:00 AM</td>\n",
       "      <td>Incoming</td>\n",
       "      <td>B</td>\n",
       "      <td>Brent</td>\n",
       "      <td>NO</td>\n",
       "      <td>0</td>\n",
       "      <td>1</td>\n",
       "      <td>9</td>\n",
       "      <td>2</td>\n",
       "      <td>1.0</td>\n",
       "      <td>4</td>\n",
       "      <td>1</td>\n",
       "    </tr>\n",
       "    <tr>\n",
       "      <th>1</th>\n",
       "      <td>North</td>\n",
       "      <td>Sales Support</td>\n",
       "      <td>11:00 AM</td>\n",
       "      <td>Incoming</td>\n",
       "      <td>A</td>\n",
       "      <td>Cam</td>\n",
       "      <td>NO</td>\n",
       "      <td>0</td>\n",
       "      <td>0</td>\n",
       "      <td>11</td>\n",
       "      <td>1</td>\n",
       "      <td>1.0</td>\n",
       "      <td>3</td>\n",
       "      <td>1</td>\n",
       "    </tr>\n",
       "    <tr>\n",
       "      <th>2</th>\n",
       "      <td>North</td>\n",
       "      <td>Sales Support</td>\n",
       "      <td>11:00 AM</td>\n",
       "      <td>Incoming</td>\n",
       "      <td>B</td>\n",
       "      <td>Todd</td>\n",
       "      <td>NO</td>\n",
       "      <td>0</td>\n",
       "      <td>0</td>\n",
       "      <td>9</td>\n",
       "      <td>3</td>\n",
       "      <td>1.0</td>\n",
       "      <td>3</td>\n",
       "      <td>1</td>\n",
       "    </tr>\n",
       "    <tr>\n",
       "      <th>3</th>\n",
       "      <td>North</td>\n",
       "      <td>Sales Support</td>\n",
       "      <td>4:00 PM</td>\n",
       "      <td>Incoming</td>\n",
       "      <td>B</td>\n",
       "      <td>Brent</td>\n",
       "      <td>NO</td>\n",
       "      <td>0</td>\n",
       "      <td>0</td>\n",
       "      <td>11</td>\n",
       "      <td>2</td>\n",
       "      <td>1.0</td>\n",
       "      <td>4</td>\n",
       "      <td>1</td>\n",
       "    </tr>\n",
       "    <tr>\n",
       "      <th>4</th>\n",
       "      <td>North</td>\n",
       "      <td>Product Support</td>\n",
       "      <td>12:00 PM</td>\n",
       "      <td>Incoming</td>\n",
       "      <td>B</td>\n",
       "      <td>Brent</td>\n",
       "      <td>NO</td>\n",
       "      <td>0</td>\n",
       "      <td>0</td>\n",
       "      <td>8</td>\n",
       "      <td>2</td>\n",
       "      <td>1.0</td>\n",
       "      <td>4</td>\n",
       "      <td>1</td>\n",
       "    </tr>\n",
       "  </tbody>\n",
       "</table>\n",
       "</div>"
      ],
      "text/plain": [
       "  Branch     Call Purpose Time Block Incoming or Outgoing Queue Rep ID Sale  \\\n",
       "0  North        Complaint    9:00 AM             Incoming     B  Brent   NO   \n",
       "1  North    Sales Support   11:00 AM             Incoming     A    Cam   NO   \n",
       "2  North    Sales Support   11:00 AM             Incoming     B   Todd   NO   \n",
       "3  North    Sales Support    4:00 PM             Incoming     B  Brent   NO   \n",
       "4  North  Product Support   12:00 PM             Incoming     B  Brent   NO   \n",
       "\n",
       "   Lost Call  Abandoned  Busy Minutes  Not Ready Minutes  Incoming Wait Time  \\\n",
       "0          0          1             9                  2                 1.0   \n",
       "1          0          0            11                  1                 1.0   \n",
       "2          0          0             9                  3                 1.0   \n",
       "3          0          0            11                  2                 1.0   \n",
       "4          0          0             8                  2                 1.0   \n",
       "\n",
       "   During Call Wait Time  Calls  \n",
       "0                      4      1  \n",
       "1                      3      1  \n",
       "2                      3      1  \n",
       "3                      4      1  \n",
       "4                      4      1  "
      ]
     },
     "execution_count": 2,
     "metadata": {},
     "output_type": "execute_result"
    }
   ],
   "source": [
    "north_df.head()"
   ]
  },
  {
   "cell_type": "code",
   "execution_count": 3,
   "id": "e1f1210f",
   "metadata": {
    "scrolled": true
   },
   "outputs": [
    {
     "data": {
      "text/html": [
       "<div>\n",
       "<style scoped>\n",
       "    .dataframe tbody tr th:only-of-type {\n",
       "        vertical-align: middle;\n",
       "    }\n",
       "\n",
       "    .dataframe tbody tr th {\n",
       "        vertical-align: top;\n",
       "    }\n",
       "\n",
       "    .dataframe thead th {\n",
       "        text-align: right;\n",
       "    }\n",
       "</style>\n",
       "<table border=\"1\" class=\"dataframe\">\n",
       "  <thead>\n",
       "    <tr style=\"text-align: right;\">\n",
       "      <th></th>\n",
       "      <th>Branch</th>\n",
       "      <th>Call Purpose</th>\n",
       "      <th>Time Block</th>\n",
       "      <th>Incoming or Outgoing</th>\n",
       "      <th>Queue</th>\n",
       "      <th>Rep ID</th>\n",
       "      <th>Sale</th>\n",
       "      <th>Lost Call</th>\n",
       "      <th>Abandoned</th>\n",
       "      <th>Busy Minutes</th>\n",
       "      <th>Not Ready Minutes</th>\n",
       "      <th>Incoming Wait Time</th>\n",
       "      <th>During Call Wait Time</th>\n",
       "      <th>Calls</th>\n",
       "    </tr>\n",
       "  </thead>\n",
       "  <tbody>\n",
       "    <tr>\n",
       "      <th>0</th>\n",
       "      <td>South</td>\n",
       "      <td>Sales Support</td>\n",
       "      <td>10:00 AM</td>\n",
       "      <td>Incoming</td>\n",
       "      <td>D</td>\n",
       "      <td>Kate</td>\n",
       "      <td>NO</td>\n",
       "      <td>0</td>\n",
       "      <td>0</td>\n",
       "      <td>9</td>\n",
       "      <td>1</td>\n",
       "      <td>1.0</td>\n",
       "      <td>2</td>\n",
       "      <td>1</td>\n",
       "    </tr>\n",
       "    <tr>\n",
       "      <th>1</th>\n",
       "      <td>South</td>\n",
       "      <td>Sales Support</td>\n",
       "      <td>10:00 AM</td>\n",
       "      <td>Incoming</td>\n",
       "      <td>C</td>\n",
       "      <td>Eric</td>\n",
       "      <td>NO</td>\n",
       "      <td>0</td>\n",
       "      <td>0</td>\n",
       "      <td>8</td>\n",
       "      <td>2</td>\n",
       "      <td>1.0</td>\n",
       "      <td>4</td>\n",
       "      <td>1</td>\n",
       "    </tr>\n",
       "    <tr>\n",
       "      <th>2</th>\n",
       "      <td>South</td>\n",
       "      <td>Sales Support</td>\n",
       "      <td>10:00 AM</td>\n",
       "      <td>Incoming</td>\n",
       "      <td>C</td>\n",
       "      <td>Susan</td>\n",
       "      <td>NO</td>\n",
       "      <td>0</td>\n",
       "      <td>0</td>\n",
       "      <td>10</td>\n",
       "      <td>2</td>\n",
       "      <td>1.0</td>\n",
       "      <td>4</td>\n",
       "      <td>1</td>\n",
       "    </tr>\n",
       "    <tr>\n",
       "      <th>3</th>\n",
       "      <td>South</td>\n",
       "      <td>Sales Support</td>\n",
       "      <td>10:00 AM</td>\n",
       "      <td>Incoming</td>\n",
       "      <td>C</td>\n",
       "      <td>Alice</td>\n",
       "      <td>NO</td>\n",
       "      <td>0</td>\n",
       "      <td>0</td>\n",
       "      <td>12</td>\n",
       "      <td>1</td>\n",
       "      <td>1.0</td>\n",
       "      <td>3</td>\n",
       "      <td>1</td>\n",
       "    </tr>\n",
       "    <tr>\n",
       "      <th>4</th>\n",
       "      <td>South</td>\n",
       "      <td>Sales Support</td>\n",
       "      <td>12:00 PM</td>\n",
       "      <td>Incoming</td>\n",
       "      <td>C</td>\n",
       "      <td>Sandy</td>\n",
       "      <td>NO</td>\n",
       "      <td>0</td>\n",
       "      <td>0</td>\n",
       "      <td>8</td>\n",
       "      <td>3</td>\n",
       "      <td>1.0</td>\n",
       "      <td>3</td>\n",
       "      <td>1</td>\n",
       "    </tr>\n",
       "  </tbody>\n",
       "</table>\n",
       "</div>"
      ],
      "text/plain": [
       "  Branch   Call Purpose Time Block Incoming or Outgoing Queue Rep ID Sale  \\\n",
       "0  South  Sales Support   10:00 AM             Incoming     D   Kate   NO   \n",
       "1  South  Sales Support   10:00 AM             Incoming     C   Eric   NO   \n",
       "2  South  Sales Support   10:00 AM             Incoming     C  Susan   NO   \n",
       "3  South  Sales Support   10:00 AM             Incoming     C  Alice   NO   \n",
       "4  South  Sales Support   12:00 PM             Incoming     C  Sandy   NO   \n",
       "\n",
       "   Lost Call  Abandoned  Busy Minutes  Not Ready Minutes  Incoming Wait Time  \\\n",
       "0          0          0             9                  1                 1.0   \n",
       "1          0          0             8                  2                 1.0   \n",
       "2          0          0            10                  2                 1.0   \n",
       "3          0          0            12                  1                 1.0   \n",
       "4          0          0             8                  3                 1.0   \n",
       "\n",
       "   During Call Wait Time  Calls  \n",
       "0                      2      1  \n",
       "1                      4      1  \n",
       "2                      4      1  \n",
       "3                      3      1  \n",
       "4                      3      1  "
      ]
     },
     "execution_count": 3,
     "metadata": {},
     "output_type": "execute_result"
    }
   ],
   "source": [
    "south_df.head()"
   ]
  },
  {
   "cell_type": "code",
   "execution_count": 4,
   "id": "57da65d6",
   "metadata": {},
   "outputs": [
    {
     "name": "stdout",
     "output_type": "stream",
     "text": [
      "North Branch - Number of reps: 9\n",
      "['Amanda', 'Andy', 'Brent', 'Cam', 'Duke', 'Joe', 'Lilly', 'Todd', 'Xander']\n"
     ]
    }
   ],
   "source": [
    "# North Branch: Checking how many reps there are\n",
    "print('North Branch - Number of reps:', north_df['Rep ID'].nunique())\n",
    "print(sorted(north_df['Rep ID'].unique()))"
   ]
  },
  {
   "cell_type": "code",
   "execution_count": 5,
   "id": "009540ab",
   "metadata": {},
   "outputs": [
    {
     "name": "stdout",
     "output_type": "stream",
     "text": [
      "South Branch - Number of reps: 11\n",
      "['Alice', 'Eric', 'George', 'Helga', 'Josh', 'Karl', 'Kate', 'Randy', 'Sandy', 'Sharon', 'Susan']\n"
     ]
    }
   ],
   "source": [
    "# South Branch: Checking how many reps there are\n",
    "print('South Branch - Number of reps:', south_df['Rep ID'].nunique())\n",
    "print(sorted(south_df['Rep ID'].unique()))"
   ]
  },
  {
   "cell_type": "code",
   "execution_count": 6,
   "id": "4e3012af",
   "metadata": {},
   "outputs": [
    {
     "data": {
      "text/plain": [
       "12:00 PM    45\n",
       "10:00 AM    43\n",
       "2:00 PM     35\n",
       "3:00 PM     30\n",
       "4:00 PM     28\n",
       "11:00 AM    25\n",
       "1:00 PM     17\n",
       "5:00 PM     17\n",
       "9:00 AM      5\n",
       "Name: Time Block, dtype: int64"
      ]
     },
     "execution_count": 6,
     "metadata": {},
     "output_type": "execute_result"
    }
   ],
   "source": [
    "# North Branch: Checking to see how many calls were in each time block\n",
    "north_df['Time Block'].value_counts()"
   ]
  },
  {
   "cell_type": "code",
   "execution_count": 7,
   "id": "3410c7b2",
   "metadata": {
    "scrolled": true
   },
   "outputs": [
    {
     "data": {
      "text/plain": [
       "12:00 PM    75\n",
       "10:00 AM    56\n",
       "3:00 PM     43\n",
       "11:00 AM    31\n",
       "2:00 PM     30\n",
       "5:00 PM     26\n",
       "4:00 PM     25\n",
       "1:00 PM     23\n",
       "9:00 AM      5\n",
       "Name: Time Block, dtype: int64"
      ]
     },
     "execution_count": 7,
     "metadata": {},
     "output_type": "execute_result"
    }
   ],
   "source": [
    "# South Branch: Checking to see how many calls were in each time block\n",
    "south_df['Time Block'].value_counts()"
   ]
  },
  {
   "cell_type": "code",
   "execution_count": 8,
   "id": "faa6722b",
   "metadata": {},
   "outputs": [
    {
     "data": {
      "text/html": [
       "<div>\n",
       "<style scoped>\n",
       "    .dataframe tbody tr th:only-of-type {\n",
       "        vertical-align: middle;\n",
       "    }\n",
       "\n",
       "    .dataframe tbody tr th {\n",
       "        vertical-align: top;\n",
       "    }\n",
       "\n",
       "    .dataframe thead th {\n",
       "        text-align: right;\n",
       "    }\n",
       "</style>\n",
       "<table border=\"1\" class=\"dataframe\">\n",
       "  <thead>\n",
       "    <tr style=\"text-align: right;\">\n",
       "      <th></th>\n",
       "      <th>Lost Call</th>\n",
       "      <th>Abandoned</th>\n",
       "      <th>Busy Minutes</th>\n",
       "      <th>Not Ready Minutes</th>\n",
       "      <th>Incoming Wait Time</th>\n",
       "      <th>During Call Wait Time</th>\n",
       "      <th>Calls</th>\n",
       "    </tr>\n",
       "  </thead>\n",
       "  <tbody>\n",
       "    <tr>\n",
       "      <th>count</th>\n",
       "      <td>245.000000</td>\n",
       "      <td>245.000000</td>\n",
       "      <td>245.000000</td>\n",
       "      <td>245.000000</td>\n",
       "      <td>82.000000</td>\n",
       "      <td>245.000000</td>\n",
       "      <td>245.0</td>\n",
       "    </tr>\n",
       "    <tr>\n",
       "      <th>mean</th>\n",
       "      <td>0.020408</td>\n",
       "      <td>0.028571</td>\n",
       "      <td>9.987755</td>\n",
       "      <td>1.914286</td>\n",
       "      <td>3.048780</td>\n",
       "      <td>2.967347</td>\n",
       "      <td>1.0</td>\n",
       "    </tr>\n",
       "    <tr>\n",
       "      <th>std</th>\n",
       "      <td>0.141681</td>\n",
       "      <td>0.166940</td>\n",
       "      <td>1.403980</td>\n",
       "      <td>0.771416</td>\n",
       "      <td>1.456382</td>\n",
       "      <td>0.843827</td>\n",
       "      <td>0.0</td>\n",
       "    </tr>\n",
       "    <tr>\n",
       "      <th>min</th>\n",
       "      <td>0.000000</td>\n",
       "      <td>0.000000</td>\n",
       "      <td>8.000000</td>\n",
       "      <td>1.000000</td>\n",
       "      <td>1.000000</td>\n",
       "      <td>2.000000</td>\n",
       "      <td>1.0</td>\n",
       "    </tr>\n",
       "    <tr>\n",
       "      <th>25%</th>\n",
       "      <td>0.000000</td>\n",
       "      <td>0.000000</td>\n",
       "      <td>9.000000</td>\n",
       "      <td>1.000000</td>\n",
       "      <td>2.000000</td>\n",
       "      <td>2.000000</td>\n",
       "      <td>1.0</td>\n",
       "    </tr>\n",
       "    <tr>\n",
       "      <th>50%</th>\n",
       "      <td>0.000000</td>\n",
       "      <td>0.000000</td>\n",
       "      <td>10.000000</td>\n",
       "      <td>2.000000</td>\n",
       "      <td>3.000000</td>\n",
       "      <td>3.000000</td>\n",
       "      <td>1.0</td>\n",
       "    </tr>\n",
       "    <tr>\n",
       "      <th>75%</th>\n",
       "      <td>0.000000</td>\n",
       "      <td>0.000000</td>\n",
       "      <td>11.000000</td>\n",
       "      <td>3.000000</td>\n",
       "      <td>4.000000</td>\n",
       "      <td>4.000000</td>\n",
       "      <td>1.0</td>\n",
       "    </tr>\n",
       "    <tr>\n",
       "      <th>max</th>\n",
       "      <td>1.000000</td>\n",
       "      <td>1.000000</td>\n",
       "      <td>12.000000</td>\n",
       "      <td>3.000000</td>\n",
       "      <td>5.000000</td>\n",
       "      <td>4.000000</td>\n",
       "      <td>1.0</td>\n",
       "    </tr>\n",
       "  </tbody>\n",
       "</table>\n",
       "</div>"
      ],
      "text/plain": [
       "        Lost Call   Abandoned  Busy Minutes  Not Ready Minutes  \\\n",
       "count  245.000000  245.000000    245.000000         245.000000   \n",
       "mean     0.020408    0.028571      9.987755           1.914286   \n",
       "std      0.141681    0.166940      1.403980           0.771416   \n",
       "min      0.000000    0.000000      8.000000           1.000000   \n",
       "25%      0.000000    0.000000      9.000000           1.000000   \n",
       "50%      0.000000    0.000000     10.000000           2.000000   \n",
       "75%      0.000000    0.000000     11.000000           3.000000   \n",
       "max      1.000000    1.000000     12.000000           3.000000   \n",
       "\n",
       "       Incoming Wait Time  During Call Wait Time  Calls  \n",
       "count           82.000000             245.000000  245.0  \n",
       "mean             3.048780               2.967347    1.0  \n",
       "std              1.456382               0.843827    0.0  \n",
       "min              1.000000               2.000000    1.0  \n",
       "25%              2.000000               2.000000    1.0  \n",
       "50%              3.000000               3.000000    1.0  \n",
       "75%              4.000000               4.000000    1.0  \n",
       "max              5.000000               4.000000    1.0  "
      ]
     },
     "execution_count": 8,
     "metadata": {},
     "output_type": "execute_result"
    }
   ],
   "source": [
    "# North Branch: Getting some basic statistics for each column in the dataframe\n",
    "north_df.describe()"
   ]
  },
  {
   "cell_type": "code",
   "execution_count": 9,
   "id": "8ad13077",
   "metadata": {},
   "outputs": [
    {
     "data": {
      "text/html": [
       "<div>\n",
       "<style scoped>\n",
       "    .dataframe tbody tr th:only-of-type {\n",
       "        vertical-align: middle;\n",
       "    }\n",
       "\n",
       "    .dataframe tbody tr th {\n",
       "        vertical-align: top;\n",
       "    }\n",
       "\n",
       "    .dataframe thead th {\n",
       "        text-align: right;\n",
       "    }\n",
       "</style>\n",
       "<table border=\"1\" class=\"dataframe\">\n",
       "  <thead>\n",
       "    <tr style=\"text-align: right;\">\n",
       "      <th></th>\n",
       "      <th>Lost Call</th>\n",
       "      <th>Abandoned</th>\n",
       "      <th>Busy Minutes</th>\n",
       "      <th>Not Ready Minutes</th>\n",
       "      <th>Incoming Wait Time</th>\n",
       "      <th>During Call Wait Time</th>\n",
       "      <th>Calls</th>\n",
       "    </tr>\n",
       "  </thead>\n",
       "  <tbody>\n",
       "    <tr>\n",
       "      <th>count</th>\n",
       "      <td>314.000000</td>\n",
       "      <td>314.000000</td>\n",
       "      <td>314.00000</td>\n",
       "      <td>314.000000</td>\n",
       "      <td>126.000000</td>\n",
       "      <td>314.000000</td>\n",
       "      <td>314.0</td>\n",
       "    </tr>\n",
       "    <tr>\n",
       "      <th>mean</th>\n",
       "      <td>0.035032</td>\n",
       "      <td>0.012739</td>\n",
       "      <td>10.05414</td>\n",
       "      <td>1.910828</td>\n",
       "      <td>3.000000</td>\n",
       "      <td>3.076433</td>\n",
       "      <td>1.0</td>\n",
       "    </tr>\n",
       "    <tr>\n",
       "      <th>std</th>\n",
       "      <td>0.184154</td>\n",
       "      <td>0.112324</td>\n",
       "      <td>1.40751</td>\n",
       "      <td>0.860016</td>\n",
       "      <td>1.308434</td>\n",
       "      <td>0.819424</td>\n",
       "      <td>0.0</td>\n",
       "    </tr>\n",
       "    <tr>\n",
       "      <th>min</th>\n",
       "      <td>0.000000</td>\n",
       "      <td>0.000000</td>\n",
       "      <td>8.00000</td>\n",
       "      <td>1.000000</td>\n",
       "      <td>1.000000</td>\n",
       "      <td>2.000000</td>\n",
       "      <td>1.0</td>\n",
       "    </tr>\n",
       "    <tr>\n",
       "      <th>25%</th>\n",
       "      <td>0.000000</td>\n",
       "      <td>0.000000</td>\n",
       "      <td>9.00000</td>\n",
       "      <td>1.000000</td>\n",
       "      <td>2.000000</td>\n",
       "      <td>2.000000</td>\n",
       "      <td>1.0</td>\n",
       "    </tr>\n",
       "    <tr>\n",
       "      <th>50%</th>\n",
       "      <td>0.000000</td>\n",
       "      <td>0.000000</td>\n",
       "      <td>10.00000</td>\n",
       "      <td>2.000000</td>\n",
       "      <td>3.000000</td>\n",
       "      <td>3.000000</td>\n",
       "      <td>1.0</td>\n",
       "    </tr>\n",
       "    <tr>\n",
       "      <th>75%</th>\n",
       "      <td>0.000000</td>\n",
       "      <td>0.000000</td>\n",
       "      <td>11.00000</td>\n",
       "      <td>3.000000</td>\n",
       "      <td>4.000000</td>\n",
       "      <td>4.000000</td>\n",
       "      <td>1.0</td>\n",
       "    </tr>\n",
       "    <tr>\n",
       "      <th>max</th>\n",
       "      <td>1.000000</td>\n",
       "      <td>1.000000</td>\n",
       "      <td>12.00000</td>\n",
       "      <td>3.000000</td>\n",
       "      <td>5.000000</td>\n",
       "      <td>4.000000</td>\n",
       "      <td>1.0</td>\n",
       "    </tr>\n",
       "  </tbody>\n",
       "</table>\n",
       "</div>"
      ],
      "text/plain": [
       "        Lost Call   Abandoned  Busy Minutes  Not Ready Minutes  \\\n",
       "count  314.000000  314.000000     314.00000         314.000000   \n",
       "mean     0.035032    0.012739      10.05414           1.910828   \n",
       "std      0.184154    0.112324       1.40751           0.860016   \n",
       "min      0.000000    0.000000       8.00000           1.000000   \n",
       "25%      0.000000    0.000000       9.00000           1.000000   \n",
       "50%      0.000000    0.000000      10.00000           2.000000   \n",
       "75%      0.000000    0.000000      11.00000           3.000000   \n",
       "max      1.000000    1.000000      12.00000           3.000000   \n",
       "\n",
       "       Incoming Wait Time  During Call Wait Time  Calls  \n",
       "count          126.000000             314.000000  314.0  \n",
       "mean             3.000000               3.076433    1.0  \n",
       "std              1.308434               0.819424    0.0  \n",
       "min              1.000000               2.000000    1.0  \n",
       "25%              2.000000               2.000000    1.0  \n",
       "50%              3.000000               3.000000    1.0  \n",
       "75%              4.000000               4.000000    1.0  \n",
       "max              5.000000               4.000000    1.0  "
      ]
     },
     "execution_count": 9,
     "metadata": {},
     "output_type": "execute_result"
    }
   ],
   "source": [
    "# South Branch: Getting some basic statistics for each column in the dataframe\n",
    "south_df.describe()"
   ]
  },
  {
   "cell_type": "code",
   "execution_count": 10,
   "id": "3d543a2a",
   "metadata": {},
   "outputs": [],
   "source": [
    "# Below code is used to left align table in Markdown below"
   ]
  },
  {
   "cell_type": "code",
   "execution_count": 11,
   "id": "15a1ca1e",
   "metadata": {},
   "outputs": [
    {
     "data": {
      "text/html": [
       "<style>\n",
       "table {float:left}\n",
       "</style>\n"
      ],
      "text/plain": [
       "<IPython.core.display.HTML object>"
      ]
     },
     "metadata": {},
     "output_type": "display_data"
    }
   ],
   "source": [
    "%%html\n",
    "<style>\n",
    "table {float:left}\n",
    "</style>"
   ]
  },
  {
   "cell_type": "markdown",
   "id": "198da45b",
   "metadata": {},
   "source": [
    "### EDA Results\n",
    "\n",
    "**1. How many reps are in each branch?**\n",
    "\n",
    "|  | # of Reps |\n",
    "| --- | --- |\n",
    "| North Branch | 9 |\n",
    "| South Branch | 11 |\n",
    "\n",
    "\n",
    "<br /><br /><br /><br /><br />\n",
    "\n",
    "**2. What is the average busy minutes, not ready minutes, incoming wait time, and during call wait time for each branch?**\n",
    "\n",
    "|  | North Branch | South Branch |\n",
    "| --- | --- | --- |\n",
    "| Busy Minutes | 9.99 | 10.05 |\n",
    "| Not Ready Minutes | 1.91 | 1.91 |\n",
    "| Incoming Wait Time | 3.05 | 3.00 |\n",
    "| During Call Wait Time | 2.97 | 3.08 |\n",
    "\n",
    "<br /><br /><br /><br /><br /><br /><br /><br />\n",
    "\n",
    "**3. What is the number of calls taken for each time block?**\n",
    "\n",
    "| Time Block | North Branch | South Branch |\n",
    "| --- | --- | --- |\n",
    "| 9:00 AM | 5 | 5 |\n",
    "| 10:00 AM | 43 | 56 |\n",
    "| 11:00 AM | 25 | 31 |\n",
    "| 12:00 PM | 45 | 75 |\n",
    "| 1:00 PM | 17 | 23 |\n",
    "| 2:00 PM | 35 | 30 |\n",
    "| 3:00 PM | 30 | 43 |\n",
    "| 4:00 PM | 28 | 25 |\n",
    "| 5:00 PM | 17 | 26 |\n",
    "\n",
    "\n",
    "<br /><br /><br /><br /><br /><br /><br /><br /><br /><br /><br /><br /><br /><br />\n",
    "\n"
   ]
  },
  {
   "cell_type": "markdown",
   "id": "ec92db6c",
   "metadata": {},
   "source": [
    "# Cleaning Data\n",
    "\n",
    "As I clean the data set, I will try to answer these questions:\n",
    "\n",
    "1. Incoming wait time is null in many places. Do all of those places correspond to outgoing calls?\n",
    "2. In the North data set, there are two separate \"YES\" values for a sale. Why and how did you rectify the issue?\n",
    "3. Are there duplicates in the two data sets? If there are, how did you handle them?\n",
    "4. Is any of the data in the two data sets unnecessary? If yes, how did you handle it?"
   ]
  },
  {
   "cell_type": "code",
   "execution_count": 12,
   "id": "b50cfa8a",
   "metadata": {
    "scrolled": true
   },
   "outputs": [
    {
     "name": "stdout",
     "output_type": "stream",
     "text": [
      "Outgoing    163\n",
      "Incoming     82\n",
      "Name: Incoming or Outgoing, dtype: int64 \n",
      "\n",
      "Null Count: 163\n"
     ]
    }
   ],
   "source": [
    "# North Branch: Checking whether the sum of outgoing calls is the same as the sum of null values\n",
    "print(north_df['Incoming or Outgoing'].value_counts(),'\\n')\n",
    "print('Null Count:',north_df['Incoming Wait Time'].isnull().sum())"
   ]
  },
  {
   "cell_type": "code",
   "execution_count": 13,
   "id": "f3356fbd",
   "metadata": {},
   "outputs": [
    {
     "name": "stdout",
     "output_type": "stream",
     "text": [
      "Outgoing    188\n",
      "Incoming    126\n",
      "Name: Incoming or Outgoing, dtype: int64 \n",
      "\n",
      "Null Count: 188\n"
     ]
    }
   ],
   "source": [
    "# North Branch: Checking whether the sum of outgoing calls is the same as the sum of null values\n",
    "print(south_df['Incoming or Outgoing'].value_counts(),'\\n')\n",
    "print('Null Count:',south_df['Incoming Wait Time'].isnull().sum())"
   ]
  },
  {
   "cell_type": "markdown",
   "id": "1ee7b47c",
   "metadata": {},
   "source": [
    "#### Conclusion: All the null values in Incoming Wait Time correspond to Outgoing Calls.<br><br><br><br>"
   ]
  },
  {
   "cell_type": "code",
   "execution_count": 14,
   "id": "79ac5c8a",
   "metadata": {
    "scrolled": false
   },
   "outputs": [
    {
     "name": "stdout",
     "output_type": "stream",
     "text": [
      "\n",
      " North Branch: \n",
      "\n",
      "---- Branch ---\n",
      "North    245\n",
      "Name: Branch, dtype: int64\n",
      "---- Call Purpose ---\n",
      "Product Support    145\n",
      "Sales Support       85\n",
      "Complaint           15\n",
      "Name: Call Purpose, dtype: int64\n",
      "---- Incoming or Outgoing ---\n",
      "Outgoing    163\n",
      "Incoming     82\n",
      "Name: Incoming or Outgoing, dtype: int64\n",
      "---- Queue ---\n",
      "B    149\n",
      "A     96\n",
      "Name: Queue, dtype: int64\n",
      "---- Rep ID ---\n",
      "Brent     37\n",
      "Lilly     30\n",
      "Duke      29\n",
      "Todd      29\n",
      "Joe       26\n",
      "Cam       24\n",
      "Xander    24\n",
      "Andy      23\n",
      "Amanda    23\n",
      "Name: Rep ID, dtype: int64\n",
      "---- Sale ---\n",
      "NO      234\n",
      "YES      10\n",
      "YES       1\n",
      "Name: Sale, dtype: int64\n"
     ]
    }
   ],
   "source": [
    "# North Branch: Checking value counts of each column\n",
    "print('\\n','North Branch:','\\n')\n",
    "for x in north_df[['Branch','Call Purpose','Incoming or Outgoing','Queue','Rep ID','Sale']]:\n",
    "    print(\"---- %s ---\" % x)\n",
    "    print(north_df[x].value_counts())"
   ]
  },
  {
   "cell_type": "code",
   "execution_count": 15,
   "id": "dffef91d",
   "metadata": {},
   "outputs": [
    {
     "data": {
      "text/plain": [
       "NO      234\n",
       "YES      10\n",
       "YES       1\n",
       "Name: Sale, dtype: int64"
      ]
     },
     "execution_count": 15,
     "metadata": {},
     "output_type": "execute_result"
    }
   ],
   "source": [
    "# Noticed that there are two separate 'YES' values in the North Branch sale column\n",
    "north_df['Sale'].value_counts()"
   ]
  },
  {
   "cell_type": "code",
   "execution_count": 16,
   "id": "902de99d",
   "metadata": {},
   "outputs": [
    {
     "name": "stdout",
     "output_type": "stream",
     "text": [
      "\n",
      " South Branch: \n",
      "\n",
      "---- Branch ---\n",
      "South    314\n",
      "Name: Branch, dtype: int64\n",
      "---- Call Purpose ---\n",
      "Product Support    165\n",
      "Sales Support      113\n",
      "Complaint           36\n",
      "Name: Call Purpose, dtype: int64\n",
      "---- Incoming or Outgoing ---\n",
      "Outgoing    188\n",
      "Incoming    126\n",
      "Name: Incoming or Outgoing, dtype: int64\n",
      "---- Queue ---\n",
      "D    176\n",
      "C    138\n",
      "Name: Queue, dtype: int64\n",
      "---- Rep ID ---\n",
      "Eric      35\n",
      "Randy     33\n",
      "Sandy     32\n",
      "Helga     31\n",
      "George    29\n",
      "Kate      29\n",
      "Karl      28\n",
      "Susan     26\n",
      "Josh      26\n",
      "Sharon    25\n",
      "Alice     20\n",
      "Name: Rep ID, dtype: int64\n",
      "---- Sale ---\n",
      "NO     308\n",
      "YES      6\n",
      "Name: Sale, dtype: int64\n"
     ]
    }
   ],
   "source": [
    "# Checking to see if the South branch has any duplicate values - it doesn't\n",
    "print('\\n','South Branch:','\\n')\n",
    "for x in south_df[['Branch','Call Purpose','Incoming or Outgoing','Queue','Rep ID','Sale']]:\n",
    "    print(\"---- %s ---\" % x)\n",
    "    print(south_df[x].value_counts())"
   ]
  },
  {
   "cell_type": "code",
   "execution_count": 17,
   "id": "48be0036",
   "metadata": {},
   "outputs": [
    {
     "data": {
      "text/plain": [
       "NO     234\n",
       "YES     11\n",
       "Name: Sale, dtype: int64"
      ]
     },
     "execution_count": 17,
     "metadata": {},
     "output_type": "execute_result"
    }
   ],
   "source": [
    "# To remove the duplicate 'YES' value from the North branch sale column, I used strip() to remove whitespace\n",
    "north_df['Sale'] = north_df['Sale'].str.strip()\n",
    "\n",
    "# Double checking to make sure that the duplicate 'YES' is gone\n",
    "north_df['Sale'].value_counts()"
   ]
  },
  {
   "cell_type": "code",
   "execution_count": 18,
   "id": "8ee52f53",
   "metadata": {},
   "outputs": [
    {
     "name": "stdout",
     "output_type": "stream",
     "text": [
      "North Branch \n",
      "\n",
      "Number of duplicate rows: 2 \n",
      "\n",
      "\n",
      "South Branch \n",
      "\n",
      "Number of duplicate rows: 3\n"
     ]
    }
   ],
   "source": [
    "# Checking for duplicates\n",
    "print('North Branch','\\n')\n",
    "print('Number of duplicate rows:',len(north_df)-len(north_df.drop_duplicates()),'\\n\\n')\n",
    "\n",
    "print('South Branch','\\n')\n",
    "print('Number of duplicate rows:',len(south_df)-len(south_df.drop_duplicates()))"
   ]
  },
  {
   "cell_type": "code",
   "execution_count": 19,
   "id": "64b84fe4",
   "metadata": {},
   "outputs": [],
   "source": [
    "# Dropping duplicates from both dataframes\n",
    "north_df = north_df.drop_duplicates()\n",
    "south_df = south_df.drop_duplicates()"
   ]
  },
  {
   "cell_type": "code",
   "execution_count": 20,
   "id": "d35c115e",
   "metadata": {},
   "outputs": [],
   "source": [
    "# Dropping column Sale from both dataframes\n",
    "north_df = north_df.drop(columns=['Sale'])\n",
    "south_df = south_df.drop(columns=['Sale'])"
   ]
  },
  {
   "cell_type": "markdown",
   "id": "79e80da0",
   "metadata": {},
   "source": [
    "### Cleaning Data Results\n",
    "\n",
    "1. Incoming wait time is null in many places. Do all of those places correspond to outgoing calls?\n",
    "<br />**YES**<br /><br />\n",
    "2. In the North data set, there are two separate \"YES\" values for a sale. Why and how did you rectify the issue?\n",
    "<br />**Removed trailing and leading space (whitespace) from the values in the Sale column.**<br /><br />\n",
    "3. Are there duplicates in the two data sets? If there are, how did you handle them?\n",
    "<br />**YES, I deleted the duplicate rows.**<br /><br />\n",
    "4. Is any of the data in the two data sets unnecessary? If yes, how did you handle it?\n",
    "<br />**YES, I deleted the unnecessary column 'Sale' since it's not needed/helpful to answer our question.**<br /><br />"
   ]
  },
  {
   "cell_type": "markdown",
   "id": "4820fb7d",
   "metadata": {},
   "source": [
    "# Data Manipulation\n",
    "\n",
    "In this step, I will be attempting to answer these questions:\n",
    "\n",
    "1. Group by Rep ID and sum the resulting structure. Sort by calls to determine which rep in each branch has the highest number of calls.\n",
    "2. The average call abandonment rate is a KPI when it comes to determining call center efficiency. As you may recall, abandoned calls are calls where the customer hangs up due to long call times. What is the average call abandonment rate for each branch and the whole company? Do any of these fall out of the optimal range of 2-5%?\n",
    "3. Service level is another KPI when it comes to measuring call center efficiency. Service level is the percentage of calls answered within a specific number of seconds. In the case of your employer, their ideal time frame is 2 seconds. What is the percentage of calls answered within 2 seconds for each branch and the entire company?\n",
    "4. For each branch and the entire company, what is the average speed of answer?"
   ]
  },
  {
   "cell_type": "code",
   "execution_count": 21,
   "id": "ea8fe600",
   "metadata": {},
   "outputs": [],
   "source": [
    "# Combining both datasets to compare the two call centers to company-wide trends\n",
    "df = north_df.append(south_df)"
   ]
  },
  {
   "cell_type": "code",
   "execution_count": 22,
   "id": "b115e152",
   "metadata": {
    "scrolled": true
   },
   "outputs": [
    {
     "data": {
      "text/html": [
       "<div>\n",
       "<style scoped>\n",
       "    .dataframe tbody tr th:only-of-type {\n",
       "        vertical-align: middle;\n",
       "    }\n",
       "\n",
       "    .dataframe tbody tr th {\n",
       "        vertical-align: top;\n",
       "    }\n",
       "\n",
       "    .dataframe thead th {\n",
       "        text-align: right;\n",
       "    }\n",
       "</style>\n",
       "<table border=\"1\" class=\"dataframe\">\n",
       "  <thead>\n",
       "    <tr style=\"text-align: right;\">\n",
       "      <th></th>\n",
       "      <th></th>\n",
       "      <th>Lost Call</th>\n",
       "      <th>Abandoned</th>\n",
       "      <th>Busy Minutes</th>\n",
       "      <th>Not Ready Minutes</th>\n",
       "      <th>Incoming Wait Time</th>\n",
       "      <th>During Call Wait Time</th>\n",
       "      <th>Calls</th>\n",
       "    </tr>\n",
       "    <tr>\n",
       "      <th>Branch</th>\n",
       "      <th>Rep ID</th>\n",
       "      <th></th>\n",
       "      <th></th>\n",
       "      <th></th>\n",
       "      <th></th>\n",
       "      <th></th>\n",
       "      <th></th>\n",
       "      <th></th>\n",
       "    </tr>\n",
       "  </thead>\n",
       "  <tbody>\n",
       "    <tr>\n",
       "      <th>North</th>\n",
       "      <th>Brent</th>\n",
       "      <td>0</td>\n",
       "      <td>1</td>\n",
       "      <td>362</td>\n",
       "      <td>71</td>\n",
       "      <td>17.0</td>\n",
       "      <td>117</td>\n",
       "      <td>37</td>\n",
       "    </tr>\n",
       "    <tr>\n",
       "      <th>South</th>\n",
       "      <th>Eric</th>\n",
       "      <td>0</td>\n",
       "      <td>0</td>\n",
       "      <td>361</td>\n",
       "      <td>54</td>\n",
       "      <td>47.0</td>\n",
       "      <td>112</td>\n",
       "      <td>35</td>\n",
       "    </tr>\n",
       "  </tbody>\n",
       "</table>\n",
       "</div>"
      ],
      "text/plain": [
       "               Lost Call  Abandoned  Busy Minutes  Not Ready Minutes  \\\n",
       "Branch Rep ID                                                          \n",
       "North  Brent           0          1           362                 71   \n",
       "South  Eric            0          0           361                 54   \n",
       "\n",
       "               Incoming Wait Time  During Call Wait Time  Calls  \n",
       "Branch Rep ID                                                    \n",
       "North  Brent                 17.0                    117     37  \n",
       "South  Eric                  47.0                    112     35  "
      ]
     },
     "execution_count": 22,
     "metadata": {},
     "output_type": "execute_result"
    }
   ],
   "source": [
    "# Grouping by Branch then Rep ID\n",
    "rep_df = df.groupby(['Branch','Rep ID']).sum()\n",
    "\n",
    "# Then sorting it based on total sum of calls for each rep to see which reps had the highest number of calls\n",
    "sorted_rep_df = rep_df.sort_values([\"Calls\"], ascending=False)\n",
    "sorted_rep_df.head(2) # Seeing the top 2"
   ]
  },
  {
   "cell_type": "code",
   "execution_count": 23,
   "id": "00d2d6cd",
   "metadata": {},
   "outputs": [
    {
     "data": {
      "text/html": [
       "<div>\n",
       "<style scoped>\n",
       "    .dataframe tbody tr th:only-of-type {\n",
       "        vertical-align: middle;\n",
       "    }\n",
       "\n",
       "    .dataframe tbody tr th {\n",
       "        vertical-align: top;\n",
       "    }\n",
       "\n",
       "    .dataframe thead th {\n",
       "        text-align: right;\n",
       "    }\n",
       "</style>\n",
       "<table border=\"1\" class=\"dataframe\">\n",
       "  <thead>\n",
       "    <tr style=\"text-align: right;\">\n",
       "      <th></th>\n",
       "      <th>Lost Call</th>\n",
       "      <th>Abandoned</th>\n",
       "      <th>Busy Minutes</th>\n",
       "      <th>Not Ready Minutes</th>\n",
       "      <th>Incoming Wait Time</th>\n",
       "      <th>During Call Wait Time</th>\n",
       "      <th>Calls</th>\n",
       "      <th>Abandonment Rate</th>\n",
       "      <th>Total Abandonment Rate</th>\n",
       "    </tr>\n",
       "    <tr>\n",
       "      <th>Branch</th>\n",
       "      <th></th>\n",
       "      <th></th>\n",
       "      <th></th>\n",
       "      <th></th>\n",
       "      <th></th>\n",
       "      <th></th>\n",
       "      <th></th>\n",
       "      <th></th>\n",
       "      <th></th>\n",
       "    </tr>\n",
       "  </thead>\n",
       "  <tbody>\n",
       "    <tr>\n",
       "      <th>North</th>\n",
       "      <td>5</td>\n",
       "      <td>7</td>\n",
       "      <td>2426</td>\n",
       "      <td>466</td>\n",
       "      <td>246.0</td>\n",
       "      <td>722</td>\n",
       "      <td>243</td>\n",
       "      <td>0.028807</td>\n",
       "      <td>0.041668</td>\n",
       "    </tr>\n",
       "    <tr>\n",
       "      <th>South</th>\n",
       "      <td>11</td>\n",
       "      <td>4</td>\n",
       "      <td>3133</td>\n",
       "      <td>595</td>\n",
       "      <td>375.0</td>\n",
       "      <td>957</td>\n",
       "      <td>311</td>\n",
       "      <td>0.012862</td>\n",
       "      <td>0.041668</td>\n",
       "    </tr>\n",
       "  </tbody>\n",
       "</table>\n",
       "</div>"
      ],
      "text/plain": [
       "        Lost Call  Abandoned  Busy Minutes  Not Ready Minutes  \\\n",
       "Branch                                                          \n",
       "North           5          7          2426                466   \n",
       "South          11          4          3133                595   \n",
       "\n",
       "        Incoming Wait Time  During Call Wait Time  Calls  Abandonment Rate  \\\n",
       "Branch                                                                       \n",
       "North                246.0                    722    243          0.028807   \n",
       "South                375.0                    957    311          0.012862   \n",
       "\n",
       "        Total Abandonment Rate  \n",
       "Branch                          \n",
       "North                 0.041668  \n",
       "South                 0.041668  "
      ]
     },
     "execution_count": 23,
     "metadata": {},
     "output_type": "execute_result"
    }
   ],
   "source": [
    "# Creating a new dataframe (branch_df) to see data only grouped by Branch\n",
    "branch_df = df.groupby(['Branch']).sum()\n",
    "\n",
    "# Adding abandonment rate to the dataframe\n",
    "branch_df['Abandonment Rate'] = (branch_df['Abandoned'] / branch_df['Calls'])\n",
    "\n",
    "#Adding the total abandoment rate (North and South) to the dataframe to see the company-wide rate\n",
    "branch_df['Total Abandonment Rate'] = branch_df['Abandonment Rate'].sum()\n",
    "\n",
    "branch_df"
   ]
  },
  {
   "cell_type": "code",
   "execution_count": 24,
   "id": "7a601079",
   "metadata": {},
   "outputs": [
    {
     "name": "stdout",
     "output_type": "stream",
     "text": [
      "Service Level <= 2 seconds:\n",
      "North Service Level - 0.13580246913580246\n",
      "South Service Level - 0.15434083601286175\n",
      "Company Wide Level - 0.14620938628158844\n"
     ]
    }
   ],
   "source": [
    "# Calculating the service level for the two branches and entire company\n",
    "# Service level is the percentage of calls answered within a specific number of seconds\n",
    "\n",
    "print('Service Level <= 2 seconds:')\n",
    "\n",
    "north_service_df = north_df['Calls'][north_df['Incoming Wait Time'].le(2)].count() / north_df['Calls'].count()\n",
    "print('North Service Level -',north_service_df)\n",
    "\n",
    "south_service_df = south_df['Calls'][south_df['Incoming Wait Time'].le(2)].count() / south_df['Calls'].count()\n",
    "print('South Service Level -',south_service_df)\n",
    "\n",
    "service_df = df['Calls'][df['Incoming Wait Time'].le(2)].count() / df['Calls'].count()\n",
    "print('Company Wide Level -',service_df)"
   ]
  },
  {
   "cell_type": "code",
   "execution_count": 25,
   "id": "240cf522",
   "metadata": {},
   "outputs": [
    {
     "name": "stdout",
     "output_type": "stream",
     "text": [
      "Average speed of answer (secs):\n",
      "North Branch - 3.037037037037037\n",
      "South Branch - 3.0\n",
      "Company Wide - 3.0145631067961167\n"
     ]
    }
   ],
   "source": [
    "# Calculating the average speed of answer for the two branches and entire company\n",
    "# Reminder: Incoming Wait Time - amount of seconds customer waits after assigned rep is available to take the call.\n",
    "print('Average speed of answer (secs):')\n",
    "print('North Branch -',north_df['Incoming Wait Time'].mean())\n",
    "print('South Branch -',south_df['Incoming Wait Time'].mean())\n",
    "print('Company Wide -',df['Incoming Wait Time'].mean())"
   ]
  },
  {
   "cell_type": "markdown",
   "id": "7719da42",
   "metadata": {},
   "source": [
    "<br>\n",
    "\n",
    "### Data Manipulation Results\n",
    "\n",
    "Table Summary:\n",
    "\n",
    "|  | North Branch | South Branch | Company-Wide |\n",
    "| --- | --- | --- | --- |\n",
    "| Rep with highest number of calls | Brent | Eric | Brent |\n",
    "| Average Call Abandonment Rate | 2.88% | 1.29% | 4.17% |\n",
    "| Service Level | 13.5% | 15.4% | 14.6% |\n",
    "| Average Speed of Answer | 3.04 sec | 3.00 sec | 3.01 sec |\n",
    "\n",
    "<br><br><br><br>     <br>    <br><br><br>\n",
    "1. Group by Rep ID and sum the resulting structure. Sort by calls to determine which rep in each branch has the highest number of calls.\n",
    "<br />**North --> Brent <br /> South --> Eric**<br /><br />\n",
    "2. The average call abandonment rate is a KPI when it comes to determining call center efficiency. As you may recall, abandoned calls are calls where the customer hangs up due to long call times. What is the average call abandonment rate for each branch and the whole company? Do any of these fall out of the optimal range of 2-5%?\n",
    "<br />**North --> 2.88% <br /> South --> 1.29% <br /> Entire --> 4.17%<br /> The south region falls out of the optimal range of 2-5%.**<br /><br />\n",
    "3. Service level is another KPI when it comes to measuring call center efficiency. Service level is the percentage of calls answered within a specific number of seconds. In the case of your employer, their ideal time frame is 2 seconds. What is the percentage of calls answered within 2 seconds for each company and the entire company?\n",
    "<br />**North --> 13.5% <br /> South --> 15.4% <br /> Entire --> 14.6%**<br /><br />\n",
    "\n",
    "4. For each branch and the entire company, what is the average speed of answer?\n",
    "<br />**North --> 3.04 seconds <br /> South --> 3.00 seconds <br /> Entire --> 3.01 seconds**<br /><br />\n",
    "\n"
   ]
  },
  {
   "cell_type": "markdown",
   "id": "d816d6a2",
   "metadata": {},
   "source": [
    "<br><br>\n",
    "# Visualization\n",
    "\n",
    "Created visualizations to answer these questions:\n",
    "\n",
    "1. What is the average abandonment rate per queue?\n",
    "2. What is the service level and average speed of answer per each rep?\n",
    "3. For each type of call purpose, how many calls are outgoing vs. incoming?"
   ]
  },
  {
   "cell_type": "markdown",
   "id": "677560ea",
   "metadata": {},
   "source": [
    "<br>\n",
    "\n",
    "## What is the average abandonment rate per queue?\n",
    "\n",
    "### Visualization 1\n",
    "To visualize the abandonment rate per queue, I used a **bar plot**. I liked how with the bar plot, the data is easy to comprehend and straight forward. Each bar represents a queue and the height represents the average rate as a percentage."
   ]
  },
  {
   "cell_type": "code",
   "execution_count": 26,
   "id": "5ce6b0f1",
   "metadata": {
    "scrolled": false
   },
   "outputs": [
    {
     "data": {
      "image/png": "[encoded data removed]",
      "text/plain": [
       "<Figure size 720x432 with 1 Axes>"
      ]
     },
     "metadata": {
      "needs_background": "light"
     },
     "output_type": "display_data"
    }
   ],
   "source": [
    "# Creating a dictionary to find the average abandonment rate per queue (Number of abandoned calls/total calls)\n",
    "abandonment_rates = {}\n",
    "queues = [\"A\", \"B\", \"C\", \"D\"]\n",
    "queue_dict = df.groupby(\"Queue\").agg(\"sum\")\n",
    "for i in range(4):\n",
    "    abandonment_rates[queues[i]] = (queue_dict[\"Abandoned\"][i] / queue_dict[\"Calls\"][i])*100\n",
    "\n",
    "# Created dataframe from dictionary    \n",
    "abandon_df = pd.DataFrame(abandonment_rates.items(), columns=['Queue', 'Percentage Rate'])\n",
    "\n",
    "# Visualization code - added title, adjusted font size, changed color scheme, etc.\n",
    "abandon_df.plot.bar(x='Queue', y='Percentage Rate',rot=0,\n",
    "                    figsize=(10,6),\n",
    "                   fontsize='15',\n",
    "                   color = '#A037AA')\n",
    "plt.xlabel('Queue',fontsize=18)\n",
    "plt.ylabel('Abandonment Rate %',fontsize=18)\n",
    "plt.title('What is the average abandonment rate per queue?', fontsize=20)\n",
    "plt.show()"
   ]
  },
  {
   "cell_type": "markdown",
   "id": "85a839d4",
   "metadata": {},
   "source": [
    "<br><br><br>\n",
    "## What is the service level and average speed of answer per each rep in the North Branch?\n",
    "\n",
    "### Visualization 2.1\n",
    "\n",
    "To visualize the service level and average speed of each rep, I created 3 different types of plots. My first visualization is a **scatterplot with adjusted marker sizes and differentiating point colors** to represent which branch it is. With this plot I liked how I could see both the service level and the speed on just one graph - it’s a clean look. I also liked how how you could see a pattern: the higher the service level, the lower the speed of answer is. It’s also easy to identify if there are any outliers with a scatterplot."
   ]
  },
  {
   "cell_type": "code",
   "execution_count": 27,
   "id": "824943f3",
   "metadata": {
    "scrolled": false
   },
   "outputs": [
    {
     "data": {
      "image/png": "[encoded data removed]",
      "text/plain": [
       "<Figure size 720x432 with 1 Axes>"
      ]
     },
     "metadata": {
      "needs_background": "light"
     },
     "output_type": "display_data"
    }
   ],
   "source": [
    "# company_wide_plt contains the data needed for the average speed of answer of each rep\n",
    "\n",
    "company_wide_plt = df.groupby([\"Rep ID\",\"Branch\"])[\"Incoming Wait Time\"].mean().to_frame().reset_index()\n",
    "\n",
    "# Finding each Rep's Personal Service Level Percentage.  Basically, Calls within 2 secs / total calls\n",
    "\n",
    "# Table 1: Total Incoming calls less than 2 seconds grouped by Rep\n",
    "quick_calls = df[df[\"Incoming Wait Time\"] <= 2.0]\n",
    "quick_reps = quick_calls[[\"Rep ID\", \"Calls\",\"Branch\"]]\n",
    "quick_stats = quick_reps.groupby([\"Rep ID\",\"Branch\"]).sum()  # Final Table\n",
    "\n",
    "\n",
    "# Table 2: Total Incoming Calls Only grouped by Rep\n",
    "total_calls_in = df[df[\"Incoming or Outgoing\"] == \"Incoming\"]\n",
    "rep_calls = total_calls_in[[\"Rep ID\", \"Calls\",\"Branch\"]]     \n",
    "total_stats = rep_calls.groupby([\"Rep ID\",\"Branch\"]).sum() # Final Table  \n",
    "\n",
    "#  Table 3: Service Level Percentage created via merge\n",
    "service_level = pd.merge(quick_stats, total_stats, on=\"Rep ID\")\n",
    "\n",
    "# Created Percentage Column in Table 3\n",
    "service_level[\"Service Level %\"] = service_level[\"Calls_x\"]/service_level[\"Calls_y\"] * 100\n",
    "\n",
    "# Merging the company_wide_plt and service_level dataframes. Removing unnecessary columns.\n",
    "rep_levels = pd.merge(company_wide_plt, service_level, on=\"Rep ID\").drop(columns=['Calls_x', 'Calls_y'])\n",
    "\n",
    "\n",
    "# Using seaborn to plot the data on a scatterplot using the dataframe 'rep_levels'\n",
    "sns.set_context(\"talk\", font_scale=1.1)\n",
    "plt.figure(figsize=(10,6))\n",
    "sns.scatterplot(x=\"Rep ID\", \n",
    "                y=\"Service Level %\",\n",
    "                size=\"Incoming Wait Time\",\n",
    "                sizes=(40,600),\n",
    "                hue='Branch',\n",
    "                data=rep_levels).set(title='\\nWhat is the service level and average speed of answer per each rep?\\n')\n",
    "locs, labels = plt.xticks()\n",
    "plt.setp(labels, rotation=60) #rotated x-axis tick labels so the rep ID names don't overlap\n",
    "plt.legend(bbox_to_anchor=(1.01, 0.86),borderaxespad=0)\n",
    "plt.ylim(0,100) #adjusted min and max y-axis values to 0-100%\n",
    "plt.show()"
   ]
  },
  {
   "cell_type": "markdown",
   "id": "11fdc55e",
   "metadata": {},
   "source": [
    "<br>\n",
    "\n",
    "### Visualization 2.2\n",
    "\n",
    "Although the scatterplot was good, I decided to make another plot to visualize the service level and average speed of each rep. Some of the marker sizes looked like the same size when it wasn’t, so it made it harder to differentiate the average speed of answer. In case someone wanted to see a more accurate differentiation between the points, I created **two bar plots using subplots**. It’s straight forward and you can clearly see the bar height difference and compare the reps."
   ]
  },
  {
   "cell_type": "code",
   "execution_count": 28,
   "id": "b04987a1",
   "metadata": {
    "scrolled": false
   },
   "outputs": [
    {
     "data": {
      "image/png": "[encoded data removed]",
      "text/plain": [
       "<Figure size 864x504 with 2 Axes>"
      ]
     },
     "metadata": {
      "needs_background": "light"
     },
     "output_type": "display_data"
    }
   ],
   "source": [
    "x = range(20) # specifying the range - total number of reps from both the North and South branch\n",
    "plt.figure(figsize=(12,7)) # choosing plot size\n",
    "\n",
    "# Choosing the colors I will use on my plot\n",
    "colors = {'North':'tab:pink', 'South':'black'}  \n",
    "c = rep_levels['Branch'].apply(lambda x: colors[x])\n",
    "labels = list(colors.keys())\n",
    "handles = [plt.Rectangle((0,0),1,1, color=colors[label]) for label in labels]\n",
    "\n",
    "# The below code will create two plots. The parameters that .subplot take are (row, column, no. of plots).\n",
    "plt.subplot(2,1,1)\n",
    "\n",
    "# This will create the bar graph for Service Level Percentage\n",
    "sl = plt.bar(x, rep_levels['Service Level %'],color=c, label=colors)\n",
    "plt.ylabel('Service Level %',fontsize=15)\n",
    "plt.xticks([],[])\n",
    "plt.title('What is the service level and average speed of answer per each rep?',fontsize=19)\n",
    "\n",
    "\n",
    "# This will create the bar graph for Average Incoming Wait Time:\n",
    "plt.subplot(2,1,2)\n",
    "iwt=plt.bar(x, rep_levels['Incoming Wait Time'],color=c, label=colors)\n",
    "plt.ylabel('Answering Speed (sec)',fontsize=15)\n",
    "plt.xlabel('Reps',fontsize=15)\n",
    "plt.xticks(x, rep_levels['Rep ID'], rotation='vertical',fontsize=15)\n",
    "\n",
    "# Legend feautures\n",
    "plt.legend(handles, labels,title='Branch',fontsize=20,bbox_to_anchor=(1.04, 0.8),borderaxespad=0)\n",
    "plt.show()"
   ]
  },
  {
   "cell_type": "markdown",
   "id": "5c297b58",
   "metadata": {},
   "source": [
    "<br>\n",
    "\n",
    "### Visualization 2.3\n",
    "\n",
    "I created another plot (**Relplot**) to see the same data from another angle. The relplots make it easier to see a trend in the points and you could see both the North and South Branch data points separately in two different plots. It’s easy to grasp the information this way. (Another reason why I created this plot was because I wanted to practice coding different types of plots.)"
   ]
  },
  {
   "cell_type": "code",
   "execution_count": 29,
   "id": "cae1ea5f",
   "metadata": {},
   "outputs": [
    {
     "data": {
      "image/png": "[encoded data removed]",
      "text/plain": [
       "<Figure size 837.84x360 with 2 Axes>"
      ]
     },
     "metadata": {
      "needs_background": "light"
     },
     "output_type": "display_data"
    },
    {
     "data": {
      "image/png": "[encoded data removed]",
      "text/plain": [
       "<Figure size 837.84x360 with 2 Axes>"
      ]
     },
     "metadata": {
      "needs_background": "light"
     },
     "output_type": "display_data"
    }
   ],
   "source": [
    "#Sorting the Rep Levels into two dataframes and sorting the order by Service Level and Incoming Wait Time\n",
    "#The sorting will help me with my relplot visualization\n",
    "rep_levels_service = rep_levels.sort_values([\"Service Level %\"])\n",
    "rep_levels_incoming_wait = rep_levels.sort_values([\"Incoming Wait Time\"])\n",
    "\n",
    "# First Relplot\n",
    "branch_order = ['North', 'South'] #it was plotting the south branch first so I specified the order\n",
    "chart_1 = sns.relplot(\n",
    "    data=rep_levels_service, x=\"Rep ID\", y=\"Service Level %\",hue='Branch',\n",
    "    col=\"Branch\", style=\"Branch\", hue_order=branch_order,col_order = branch_order, style_order=branch_order,\n",
    "    kind=\"scatter\")\n",
    "chart_1.set(xlabel='Reps') #renaming x-axis\n",
    "chart_1.set(xticks=[]) #removing x-axis tick labels\n",
    "plt.show()\n",
    "\n",
    "# Second Relplot\n",
    "chart_2 = sns.relplot(\n",
    "    data=rep_levels_incoming_wait, x=\"Rep ID\", y=\"Incoming Wait Time\",hue='Branch',\n",
    "    col=\"Branch\", style=\"Branch\",\n",
    "    kind=\"scatter\")\n",
    "chart_2.set(xlabel='Reps') #renaming x-axis\n",
    "chart_2.set(xticks=[]) #removing x-axis tick labels\n",
    "plt.show()"
   ]
  },
  {
   "cell_type": "markdown",
   "id": "e7d948b7",
   "metadata": {},
   "source": [
    "<br><br><br>\n",
    "## For each type of call purpose, how many calls are outgoing vs. incoming?\n",
    "\n",
    "### Visualization 3\n",
    "\n",
    "To visualize the number of outgoing and incoming calls for each call purpose, I created a **grouped bar plot**. It’s super easy to read and understand the plot -  and you can see which complaint has the most number of calls and whether there is more incoming or outgoing calls per complaint. The bars are also color-coded based on whether it is incoming or outgoing. "
   ]
  },
  {
   "cell_type": "code",
   "execution_count": 30,
   "id": "d3d77a58",
   "metadata": {},
   "outputs": [
    {
     "data": {
      "image/png": "[encoded data removed]",
      "text/plain": [
       "<Figure size 720x576 with 1 Axes>"
      ]
     },
     "metadata": {
      "needs_background": "light"
     },
     "output_type": "display_data"
    }
   ],
   "source": [
    "# Visualization 3\n",
    "\n",
    "# Three dictionaries (complaints, sales_support and product_support) contain Incoming/Outgoing counts:\n",
    "purpose_group = df.groupby(\"Call Purpose\")\n",
    "purpose_counts = purpose_group[\"Incoming or Outgoing\"].value_counts()\n",
    "complaints = purpose_counts[\"Complaint\"].to_dict()\n",
    "sales_support = purpose_counts[\"Sales Support\"].to_dict()\n",
    "product_support = purpose_counts[\"Product Support\"].to_dict()\n",
    "\n",
    "# Creating a nested dictionary to store number of Incoming and Outgoing calls for each Call Purpose:\n",
    "call_purpose = {'Complaints':complaints,'Sales Support':sales_support,'Product Support':product_support}\n",
    "\n",
    "# Creating a new dataframe 'Call_df' from the nested dictionary \n",
    "call_df = pd.DataFrame(call_purpose)\n",
    "\n",
    "# Creating Double Bar Graph from the 'Call_df' dataframe\n",
    "# Added some text for labels, title and custom x-axis tick edits, etc.\n",
    "call_df.transpose().plot.bar(title='\\nFor each type of call purpose, how many calls are outgoing vs. incoming?\\n',\n",
    "                            ylabel='Number of Calls',xlabel='\\nComplaint Type\\n\\n',figsize=(10,8))\n",
    "plt.xticks(rotation=0,fontsize=15)\n",
    "plt.show()"
   ]
  },
  {
   "cell_type": "code",
   "execution_count": 31,
   "id": "817af6fd",
   "metadata": {},
   "outputs": [
    {
     "data": {
      "text/html": [
       "<div>\n",
       "<style scoped>\n",
       "    .dataframe tbody tr th:only-of-type {\n",
       "        vertical-align: middle;\n",
       "    }\n",
       "\n",
       "    .dataframe tbody tr th {\n",
       "        vertical-align: top;\n",
       "    }\n",
       "\n",
       "    .dataframe thead th {\n",
       "        text-align: right;\n",
       "    }\n",
       "</style>\n",
       "<table border=\"1\" class=\"dataframe\">\n",
       "  <thead>\n",
       "    <tr style=\"text-align: right;\">\n",
       "      <th></th>\n",
       "      <th>Incoming Wait Time</th>\n",
       "      <th>Service Level %</th>\n",
       "      <th>Abandonment Rate</th>\n",
       "    </tr>\n",
       "    <tr>\n",
       "      <th>Branch</th>\n",
       "      <th></th>\n",
       "      <th></th>\n",
       "      <th></th>\n",
       "    </tr>\n",
       "  </thead>\n",
       "  <tbody>\n",
       "    <tr>\n",
       "      <th>North</th>\n",
       "      <td>3.032447</td>\n",
       "      <td>41.725990</td>\n",
       "      <td>0.028807</td>\n",
       "    </tr>\n",
       "    <tr>\n",
       "      <th>South</th>\n",
       "      <td>3.033234</td>\n",
       "      <td>36.446899</td>\n",
       "      <td>0.012862</td>\n",
       "    </tr>\n",
       "  </tbody>\n",
       "</table>\n",
       "</div>"
      ],
      "text/plain": [
       "        Incoming Wait Time  Service Level %  Abandonment Rate\n",
       "Branch                                                       \n",
       "North             3.032447        41.725990          0.028807\n",
       "South             3.033234        36.446899          0.012862"
      ]
     },
     "execution_count": 31,
     "metadata": {},
     "output_type": "execute_result"
    }
   ],
   "source": [
    "# Creating a table that includes the average KPI's for each branch\n",
    "rep_average_levels = rep_levels.groupby(['Branch']).mean()\n",
    "rep_average_levels['Abandonment Rate'] = branch_df['Abandonment Rate']\n",
    "rep_average_levels"
   ]
  },
  {
   "cell_type": "markdown",
   "id": "60770519",
   "metadata": {},
   "source": [
    "<br><br>\n",
    "## Summary of Analysis\n",
    "\n",
    "1. Using KPIs such as average abandonment rate, service level and average speed of answer, in your opinion, which one of the two branches is operating more efficiently? Why?\n",
    "<br />**When considering the KPIs (average abandonment rate, service level, average speed of answer), out of the two branches it seems like the North Branch is operating more effeciently. The average speed of answer for both branches are approximately the same: 3.03 seconds. But the Norths' average Service Level % is higher (41.7%) and the average Abandonment Rate is 2.8% (within the optimal range of 2-5%). This is also keeping in consideration that the North has less employees compared to the South (9 reps vs 11 reps). Even though one may argue that the North gets fewer calls - when you take the average number of calls each rep receives per Branch, they're about the same (North - 27 calls/rep vs South - 28 calls/rep). So based on the KPI's it seems like the North is operating productively.**<br /><br />\n",
    "\n",
    "\n",
    "2. Based on the number of reps in each branch and how quickly the reps are working, in your opinion, which branch would benefit from the extra help?\n",
    "<br />**Subectively, it was interpreted that the North is operating productively - so it would seem like the South branch would benefit from the extra help. One argument could be that there seems to be some outliers in the North Branch. For example, Brent's Service Level is much higher than the average. But even if we remove Brent's score from the average, the North's average will be 37.6% - which is still higher than the average Service Level for the South (36.4%). So the South branch would need the extra help. Since five reps may be hired, maybe all 5 don't have to work for the South branch. Three reps could work for the South Branch and two in the North so it'll be a balance.**<br /><br />\n",
    "\n",
    "3. Now that you have explored the datasets, is there any data or information that you wish you had in this analysis?\n",
    "<br />**Years of experience for each representative, the timeframe for the given dataset (it is just a days worth of data or a week) - I would want a larger data set. Is this the actual total number of reps that work on an average day? Are any KPI's affected dramatically during lunch hours?**<br /><br /> "
   ]
  },
  {
   "cell_type": "markdown",
   "id": "cc90141d",
   "metadata": {},
   "source": [
    "<br> \n",
    "\n",
    "## For each call purpose, how many calls (incoming and outgoing) take place in each time block?\n",
    "### Visualization 4\n",
    "\n",
    "To visualize the number of calls for each time block, I created another **grouped bar plot**. "
   ]
  },
  {
   "cell_type": "code",
   "execution_count": 32,
   "id": "bd59b5c3",
   "metadata": {},
   "outputs": [
    {
     "data": {
      "image/png": "[encoded data removed]",
      "text/plain": [
       "<Figure size 1008x576 with 1 Axes>"
      ]
     },
     "metadata": {
      "needs_background": "light"
     },
     "output_type": "display_data"
    }
   ],
   "source": [
    "# Used groupby and pivot to plot based on time blocks:\n",
    "time_group = df.groupby([\"Time Block\",\"Call Purpose\"])['Calls'].sum().reset_index()\n",
    "time_matrix = time_group.pivot(\"Time Block\", \"Call Purpose\", \"Calls\")\n",
    "\n",
    "# It was plotting the times out of order so I created a chronological list to specify the correct order\n",
    "time_order = ['9:00 AM','10:00 AM','11:00 AM','12:00 PM','1:00 PM','2:00 PM','3:00 PM','4:00 PM','5:00 PM']\n",
    "\n",
    "# Plotting grouped bar graph\n",
    "time_matrix.loc[time_order].plot(kind='bar',figsize=(14,8))\n",
    "plt.xlabel('Time Block', fontsize=17)\n",
    "plt.ylabel('Number of Calls',fontsize=17)\n",
    "plt.title('For each call purpose, how many calls (incoming and outgoing) take place in each time block?')\n",
    "plt.xticks(rotation=0,fontsize=15)\n",
    "plt.legend(title='Call Purpose',fontsize=16,bbox_to_anchor=(1.25, .97),borderaxespad=0)\n",
    "plt.show()"
   ]
  }
 ],
 "metadata": {
  "kernelspec": {
   "display_name": "Python 3",
   "language": "python",
   "name": "python3"
  },
  "language_info": {
   "codemirror_mode": {
    "name": "ipython",
    "version": 3
   },
   "file_extension": ".py",
   "mimetype": "text/x-python",
   "name": "python",
   "nbconvert_exporter": "python",
   "pygments_lexer": "ipython3",
   "version": "3.8.8"
  }
 },
 "nbformat": 4,
 "nbformat_minor": 5
}
